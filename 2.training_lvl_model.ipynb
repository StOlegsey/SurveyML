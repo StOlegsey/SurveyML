{
 "cells": [
  {
   "cell_type": "code",
   "execution_count": 1,
   "id": "cb515b4d-e17a-4be4-8467-c8845c44167c",
   "metadata": {},
   "outputs": [],
   "source": [
    "import numpy as np\n",
    "import matplotlib.pyplot as plt\n",
    "#%matplotlib widget\n",
    "from sklearn.datasets import make_blobs\n",
    "import tensorflow as tf\n",
    "from tensorflow.keras.models import load_model\n",
    "from tensorflow.keras.models import Sequential\n",
    "from tensorflow.keras.layers import Dense\n",
    "np.set_printoptions(precision=2)\n",
    "import logging\n",
    "logging.getLogger(\"tensorflow\").setLevel(logging.ERROR)\n",
    "tf.autograph.set_verbosity(0)"
   ]
  },
  {
   "cell_type": "code",
   "execution_count": 2,
   "id": "e126fd78-14ff-4773-a28b-2008a62dbbf7",
   "metadata": {},
   "outputs": [
    {
     "name": "stdout",
     "output_type": "stream",
     "text": [
      "(24, 3) (12,)\n"
     ]
    }
   ],
   "source": [
    "tests = 12\n",
    "questions = 14\n",
    "answers_train = np.array([\n",
    "    [2, 2, 1],\n",
    "    [1, 2, 1],\n",
    "    [2, 3, 2],\n",
    "    [1, 2, 1],\n",
    "    [2, 2, 1],\n",
    "    [3, 3, 1],\n",
    "    [2, 2, 2],\n",
    "    [2, 3, 2],\n",
    "    [1, 1, 1],\n",
    "    [2, 2, 1],\n",
    "    [3, 3, 2],\n",
    "    [2, 2, 2],\n",
    "    [2, 1, 2],\n",
    "    [3, 2, 2],\n",
    "    [2, 4, 2],\n",
    "    [2, 3, 3],\n",
    "    [2, 2, 2],\n",
    "    [3, 3, 3],\n",
    "    [4, 3, 3],\n",
    "    [3, 3, 2],\n",
    "    [4, 3, 4],\n",
    "    [2, 3, 3],\n",
    "    [3, 2, 1],\n",
    "    [2, 2, 2]\n",
    "])\n",
    "\n",
    "answers_train_v2 = np.array([\n",
    "    [2, 2, 1, 2, 2],\n",
    "    [1, 2, 1, 2, 2],\n",
    "    [2, 3, 2, 2, 2],\n",
    "    [1, 2, 1, 2, 1],\n",
    "    [2, 2, 1, 1, 1],\n",
    "    [3, 3, 1, 2, 2],\n",
    "    [2, 2, 2, 2, 3],\n",
    "    [2, 3, 2, 3, 3],\n",
    "    [1, 1, 1, 1, 1],\n",
    "    [2, 2, 1, 2, 1],\n",
    "    [3, 3, 2, 3, 3],\n",
    "    [2, 2, 2, 3, 3],\n",
    "    [2, 1, 2, 2, 1],\n",
    "    [3, 2, 2, 2, 3],\n",
    "    [2, 4, 2, 3, 3],\n",
    "    [2, 3, 3, 2, 2],\n",
    "    [2, 2, 2, 2, 2],\n",
    "    [3, 3, 3, 3, 3],\n",
    "    [4, 3, 3, 4, 3],\n",
    "    [3, 3, 2, 3, 2],\n",
    "    [4, 3, 4, 4, 4],\n",
    "    [2, 3, 3, 3, 3],\n",
    "    [3, 2, 1, 3, 3],\n",
    "    [2, 2, 2, 2, 3]\n",
    "])\n",
    "\n",
    "trainining_lvl_expected = np.array([0, 0, 1, 0, 0, 1, 1, 1, 0, 0, 1, 1, 0, 1, 1, 1, 1, 2, 2, 1, 2, 1, 1, 1])\n",
    "\n",
    "course_lvls = np.array([0, 0, 0, 0, 0, 0, 0, 0, 0, 1, 1, 0])\n",
    "\n",
    "print(answers_train.shape, course_lvls.shape)"
   ]
  },
  {
   "cell_type": "raw",
   "id": "9aade790-6112-420e-8661-2acac49dda1a",
   "metadata": {},
   "source": [
    "Модель для распознавания уровня подготовки:"
   ]
  },
  {
   "cell_type": "code",
   "execution_count": 3,
   "id": "3cdb67f4-a58b-4944-9864-a37f649f6935",
   "metadata": {},
   "outputs": [
    {
     "name": "stdout",
     "output_type": "stream",
     "text": [
      "(24, 3) (24,)\n"
     ]
    }
   ],
   "source": [
    "print(answers_train.shape, trainining_lvl_expected.shape)"
   ]
  },
  {
   "cell_type": "code",
   "execution_count": 4,
   "id": "97eaa86d-7a22-41e3-a656-0ff37f0054b4",
   "metadata": {},
   "outputs": [
    {
     "data": {
      "text/plain": [
       "<keras.src.callbacks.history.History at 0x2277991bc80>"
      ]
     },
     "execution_count": 4,
     "metadata": {},
     "output_type": "execute_result"
    }
   ],
   "source": [
    "tf.random.set_seed(1234)\n",
    "model_training_lvl = Sequential(\n",
    "    [\n",
    "        Dense(8, activation='relu', name=\"L1\"),\n",
    "        Dense(6, activation='relu', name=\"L2\"),\n",
    "        Dense(3, activation='softmax', name=\"Output\")\n",
    "    ]\n",
    ")\n",
    "model_training_lvl.compile(\n",
    "    loss=tf.keras.losses.SparseCategoricalCrossentropy(),\n",
    "    optimizer=tf.keras.optimizers.Adam(0.01),\n",
    ")\n",
    "\n",
    "model_training_lvl.fit(\n",
    "    answers_train_v2,trainining_lvl_expected,\n",
    "    epochs=200,\n",
    "    verbose=0\n",
    ")"
   ]
  },
  {
   "cell_type": "code",
   "execution_count": 5,
   "id": "2c54eafc-b1ff-402d-b640-6b5a8212cae1",
   "metadata": {},
   "outputs": [
    {
     "name": "stdout",
     "output_type": "stream",
     "text": [
      "\u001b[1m1/1\u001b[0m \u001b[32m━━━━━━━━━━━━━━━━━━━━\u001b[0m\u001b[37m\u001b[0m \u001b[1m0s\u001b[0m 44ms/step\n"
     ]
    },
    {
     "data": {
      "image/png": "[encoded data removed]",
      "text/plain": [
       "<Figure size 640x480 with 1 Axes>"
      ]
     },
     "metadata": {},
     "output_type": "display_data"
    }
   ],
   "source": [
    "predictions_training_lvl = model_training_lvl.predict(answers_train_v2)\n",
    "#print(predictions_training_lvl)\n",
    "predictions_training_lvl = np.argmax(predictions_training_lvl, axis=1)\n",
    "plt.scatter(range(len(trainining_lvl_expected)), trainining_lvl_expected, label='True values', color='red')\n",
    "plt.scatter(range(len(predictions_training_lvl)), predictions_training_lvl, label='Predictions', color='blue', alpha=0.5)\n",
    "plt.xlabel('Samples')\n",
    "plt.ylabel('Level')\n",
    "plt.legend()\n",
    "plt.title('True vs Predicted Classes')\n",
    "plt.show()"
   ]
  },
  {
   "cell_type": "code",
   "execution_count": 6,
   "id": "da609bd5-97d4-482b-993b-df6139b23f96",
   "metadata": {},
   "outputs": [
    {
     "name": "stdout",
     "output_type": "stream",
     "text": [
      "w1 [[-0.52 -0.3  -0.44  0.36 -0.34 -0.3   0.56 -0.3 ]\n",
      " [-0.35  0.88  0.22  0.03  0.16 -0.17 -0.66  0.26]\n",
      " [-0.47 -0.15 -0.13  0.15  0.93 -0.33  0.16  0.46]\n",
      " [ 0.17  0.12 -0.58 -0.47  0.74  0.15  0.43 -0.58]\n",
      " [-0.06 -0.39 -0.53  1.07 -0.24  0.6   0.27 -0.71]] \n",
      "b1 [ 0.   -0.46  0.   -0.81 -0.05  0.25 -0.56 -0.13]\n",
      "\n",
      "w2 [[-0.25  0.03  0.42  0.39  0.11 -0.06]\n",
      " [ 0.33 -0.88  0.81  1.13  1.53  0.37]\n",
      " [-0.17  0.38 -0.17  0.37  0.46  0.15]\n",
      " [-0.31  0.1  -0.75  1.37  0.62 -0.44]\n",
      " [-0.49  0.31  0.61  0.17 -0.61 -0.32]\n",
      " [ 0.28 -0.56  0.37 -0.08  1.63  0.28]\n",
      " [ 0.51  0.52 -0.59  0.22 -0.5   0.26]\n",
      " [-0.14  0.1  -0.42  0.69  0.27  0.5 ]] \n",
      "b2 [-0.14  0.06  0.98 -0.68  1.28 -0.18]\n"
     ]
    }
   ],
   "source": [
    "l1 = model_training_lvl.get_layer(\"L1\")\n",
    "W1,b1 = l1.get_weights()\n",
    "print('w1', W1, '\\nb1', b1)\n",
    "l2 = model_training_lvl.get_layer(\"L2\")\n",
    "W2, b2 = l2.get_weights()\n",
    "print('\\nw2', W2, '\\nb2', b2)"
   ]
  },
  {
   "cell_type": "code",
   "execution_count": 7,
   "id": "2c40b051-d64c-4cd8-9892-fbf1967d8f53",
   "metadata": {},
   "outputs": [
    {
     "name": "stdout",
     "output_type": "stream",
     "text": [
      "\u001b[1m1/1\u001b[0m \u001b[32m━━━━━━━━━━━━━━━━━━━━\u001b[0m\u001b[37m\u001b[0m \u001b[1m0s\u001b[0m 40ms/step\n",
      "[1 2 1 2 0 1 0 0 0 0] result\n",
      "[1 1 2 2 0 1 0 0 0 0] mean predictions\n"
     ]
    }
   ],
   "source": [
    "test_answers_training_level = np.array([[2, 2, 2, 2, 2],\n",
    "                                        [2, 2, 3, 2, 2],\n",
    "                                        [3, 3, 3, 3, 4],\n",
    "                                        [4, 4, 4, 4, 3],\n",
    "                                        [1, 1, 1, 1, 1],\n",
    "                                        [2, 3, 2, 3, 2],\n",
    "                                        [1, 2, 2, 2, 1],\n",
    "                                        [1, 1, 2, 2, 1],\n",
    "                                        [2, 1, 1, 2, 1],\n",
    "                                        [1, 2, 1, 1, 1]\n",
    "                                       ])\n",
    "test_predicions_training = model_training_lvl.predict(test_answers_training_level)\n",
    "test_predicions_training = np.argmax(test_predicions_training, axis=1)\n",
    "print(test_predicions_training, 'result')\n",
    "print('[1 1 2 2 0 1 0 0 0 0]', 'mean predictions')"
   ]
  },
  {
   "cell_type": "code",
   "execution_count": 8,
   "id": "722bd63f-8b13-4721-8b0f-f8d51e5d92d4",
   "metadata": {},
   "outputs": [],
   "source": [
    "def fit_course_lvl(answers, predicted_lvl):\n",
    "    for j in range(len(answers)):\n",
    "        for i in range(len(answers[j])):\n",
    "            if predicted_lvl[j] < course_lvls[i]:\n",
    "                if answers[j][i] < 0:\n",
    "                    answers[j][i] *= (course_lvls[i] - predicted_lvl[j] + 1)\n",
    "                else:\n",
    "                    answers[j][i] /= (course_lvls[i] - predicted_lvl[j] + 1)\n",
    "                    \n",
    "def predict_with_course_lvl(model, answers_raw):\n",
    "    # Pass the model and the answer results\n",
    "    answers_no_lvl = np.array([x[3:] for x in answers_raw])\n",
    "    answers_training_lvl = np.array([x[0:3] for x in answers_raw])\n",
    "    train_lvl_pred = model_training_lvl.predict(answers_training_lvl)  # predicted knowledge level based on the answers\n",
    "    train_lvl_pred = np.argmax(train_lvl_pred, axis=1)  # round predicted knowledge level\n",
    "    final_pred = model.predict(answers_no_lvl)  # predict the course without the first 3 questions\n",
    "    # print('raw predictions\\n', predictions_no_lvl)\n",
    "    fit_course_lvl(final_pred, train_lvl_pred)  # reduce probabilities for courses with insufficient knowledge level\n",
    "    return final_pred\n",
    "\n",
    "def predict_with_course_lvl(model, answers_raw, questions):\n",
    "    # Pass the model and the answer results\n",
    "    answers_no_lvl = np.array([x[questions:] for x in answers_raw])\n",
    "    answers_training_lvl = np.array([x[0:questions] for x in answers_raw])\n",
    "    train_lvl_pred = model_training_lvl.predict(answers_training_lvl)  # predicted knowledge level based on the answers\n",
    "    train_lvl_pred = np.argmax(train_lvl_pred, axis=1)  # round predicted knowledge level\n",
    "    final_pred = model.predict(answers_no_lvl)  # predict the course without the first N questions\n",
    "    # print('raw predictions\\n', predictions_no_lvl)\n",
    "    fit_course_lvl(final_pred, train_lvl_pred)  # reduce probabilities for courses with insufficient knowledge level\n",
    "    return final_pred"
   ]
  },
  {
   "cell_type": "raw",
   "id": "9c302444-5f46-4e01-8f82-61222d062a79",
   "metadata": {},
   "source": [
    "Получилось довольно неплохая модель, для загрузки:"
   ]
  },
  {
   "cell_type": "code",
   "execution_count": 23,
   "id": "45827c63-7f6b-4f8a-8aca-a56b2b0c83ed",
   "metadata": {},
   "outputs": [],
   "source": [
    "#model_training_lvl = load_model(\"training_lvl_model.h5\")\n",
    "# или только веса:\n",
    "#model_training_lvl.load_weights(\"training_lvl_weights.h5\")"
   ]
  },
  {
   "cell_type": "code",
   "execution_count": null,
   "id": "4a134d2e-3c70-4a3f-8d6a-110546442a06",
   "metadata": {},
   "outputs": [],
   "source": []
  }
 ],
 "metadata": {
  "kernelspec": {
   "display_name": "Python 3 (ipykernel)",
   "language": "python",
   "name": "python3"
  },
  "language_info": {
   "codemirror_mode": {
    "name": "ipython",
    "version": 3
   },
   "file_extension": ".py",
   "mimetype": "text/x-python",
   "name": "python",
   "nbconvert_exporter": "python",
   "pygments_lexer": "ipython3",
   "version": "3.12.10"
  }
 },
 "nbformat": 4,
 "nbformat_minor": 5
}
